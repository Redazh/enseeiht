{
 "cells": [
  {
   "cell_type": "markdown",
   "metadata": {},
   "source": [
    "<center>\n",
    "<h1> TP-Projet d'optimisation numérique </h1>\n",
    "<h1> Algorithme du lagrangien augmenté </h1>\n",
    "</center>"
   ]
  },
  {
   "cell_type": "markdown",
   "metadata": {},
   "source": [
    "## Implémentation\n",
    "\n",
    "1. Implémenter l'algorithme du lagrangien augmenté, en utilisant les différentes méthodes\n",
    "qui ont été vues en première partie pour la résolution de la suite de problèmes sans\n",
    "contraintes (fichier `src/lagrangien_augmente.jl`). La spécification est donnée dans le fichier.\n",
    "2. Vérifier que les tests ci-dessous passent.\n",
    " "
   ]
  },
  {
   "cell_type": "code",
   "execution_count": 22,
   "metadata": {},
   "outputs": [
    {
     "name": "stdout",
     "output_type": "stream",
     "text": [
      "Affichage des résultats des algorithmes : true\n",
      "\n",
      "-------------------------------------------------------------------------\n",
      "\u001b[34m\u001b[1mRésultats de : LA et newton appliqué à f1:\u001b[22m\u001b[39m\n",
      "  * x0       = [0, 1, 1]\n",
      "  * x_sol    = [0.5000000120317561, 1.2499999939841218, 0.5000000120317564]\n",
      "  * f(x_sol) = 2.2499998917141943\n",
      "  * nb_iters = 9\n",
      "  * flag     = 0\n",
      "  * solution = [0.5, 1.25, 0.5]\n",
      "-------------------------------------------------------------------------\n",
      "\u001b[34m\u001b[1mRésultats de : LA et newton appliqué à f1:\u001b[22m\u001b[39m\n",
      "  * x0       = [0.5, 1.25, 1.0]\n",
      "  * x_sol    = [0.5000002259296457, 1.249999887035177, 0.5000002259296459]\n",
      "  * f(x_sol) = 2.2499979666336474\n",
      "  * nb_iters = 8\n",
      "  * flag     = 0\n",
      "  * solution = [0.5, 1.25, 0.5]\n",
      "-------------------------------------------------------------------------\n",
      "\u001b[34m\u001b[1mRésultats de : LA et newton appliqué à f2:\u001b[22m\u001b[39m\n",
      "  * x0       = [1, 0]\n",
      "  * x_sol    = [0.9072336571162266, 0.8227549044924193]\n",
      "  * f(x_sol) = 0.008615707033558758\n",
      "  * nb_iters = 5\n",
      "  * flag     = 0\n",
      "  * solution = [0.9072339605110892, 0.82275545631455]\n",
      "-------------------------------------------------------------------------\n",
      "\u001b[34m\u001b[1mRésultats de : LA et newton appliqué à f2:\u001b[22m\u001b[39m\n",
      "  * x0       = [0.8660254037844386, 0.8660254037844386]\n",
      "  * x_sol    = [0.9072336571162514, 0.8227549044924647]\n",
      "  * f(x_sol) = 0.008615707033554137\n",
      "  * nb_iters = 5\n",
      "  * flag     = 0\n",
      "  * solution = [0.9072339605110892, 0.82275545631455]\n",
      "-------------------------------------------------------------------------\n",
      "\u001b[34m\u001b[1mRésultats de : LA et rc-cauchy appliqué à f1:\u001b[22m\u001b[39m\n",
      "  * x0       = [0, 1, 1]\n",
      "  * x_sol    = [0.4999941298406043, 1.2499982510671788, 0.500005869244228]\n",
      "  * f(x_sol) = 2.2500000041994004\n",
      "  * nb_iters = 14\n",
      "  * flag     = 0\n",
      "  * solution = [0.5, 1.25, 0.5]\n",
      "-------------------------------------------------------------------------\n",
      "\u001b[34m\u001b[1mRésultats de : LA et rc-cauchy appliqué à f1:\u001b[22m\u001b[39m\n",
      "  * x0       = [0.5, 1.25, 1.0]\n",
      "  * x_sol    = [0.4999925341798044, 1.2499978013901976, 0.5000069300394769]\n",
      "  * f(x_sol) = 2.250002411139264\n",
      "  * nb_iters = 8\n",
      "  * flag     = 0\n",
      "  * solution = [0.5, 1.25, 0.5]\n",
      "-------------------------------------------------------------------------\n",
      "\u001b[34m\u001b[1mRésultats de : LA et rc-cauchy appliqué à f2:\u001b[22m\u001b[39m\n",
      "  * x0       = [1, 0]\n",
      "  * x_sol    = [0.9072338606144752, 0.8227552746358795]\n",
      "  * f(x_sol) = 0.008615669220624015\n",
      "  * nb_iters = 5\n",
      "  * flag     = 0\n",
      "  * solution = [0.9072339605110892, 0.82275545631455]\n",
      "-------------------------------------------------------------------------\n",
      "\u001b[34m\u001b[1mRésultats de : LA et rc-cauchy appliqué à f2:\u001b[22m\u001b[39m\n",
      "  * x0       = [0.8660254037844386, 0.8660254037844386]\n",
      "  * x_sol    = [0.9072338606144758, 0.8227552746358805]\n",
      "  * f(x_sol) = 0.008615669220623913\n",
      "  * nb_iters = 5\n",
      "  * flag     = 0\n",
      "  * solution = [0.9072339605110892, 0.82275545631455]\n",
      "-------------------------------------------------------------------------\n",
      "\u001b[34m\u001b[1mRésultats de : LA et rc-gct appliqué à f1:\u001b[22m\u001b[39m\n",
      "  * x0       = [0, 1, 1]\n",
      "  * x_sol    = [0.5000000120317564, 1.249999993984122, 0.5000000120317564]\n",
      "  * f(x_sol) = 2.249999891714193\n",
      "  * nb_iters = 9\n",
      "  * flag     = 0\n",
      "  * solution = [0.5, 1.25, 0.5]\n",
      "-------------------------------------------------------------------------\n",
      "\u001b[34m\u001b[1mRésultats de : LA et rc-gct appliqué à f1:\u001b[22m\u001b[39m\n",
      "  * x0       = [0.5, 1.25, 1.0]\n",
      "  * x_sol    = [0.5000002259296458, 1.249999887035177, 0.5000002259296458]\n",
      "  * f(x_sol) = 2.2499979666336474\n",
      "  * nb_iters = 8\n",
      "  * flag     = 0\n",
      "  * solution = [0.5, 1.25, 0.5]\n",
      "-------------------------------------------------------------------------\n",
      "\u001b[34m\u001b[1mRésultats de : LA et rc-gct appliqué à f2:\u001b[22m\u001b[39m\n",
      "  * x0       = [1, 0]\n",
      "  * x_sol    = [0.9072336571162266, 0.8227549044924193]\n",
      "  * f(x_sol) = 0.008615707033558758\n",
      "  * nb_iters = 5\n",
      "  * flag     = 0\n",
      "  * solution = [0.9072339605110892, 0.82275545631455]\n",
      "-------------------------------------------------------------------------\n",
      "\u001b[34m\u001b[1mRésultats de : LA et rc-gct appliqué à f2:\u001b[22m\u001b[39m\n",
      "  * x0       = [0.8660254037844386, 0.8660254037844386]\n",
      "  * x_sol    = [0.9072336571162514, 0.8227549044924647]\n",
      "  * f(x_sol) = 0.008615707033554137\n",
      "  * nb_iters = 5\n",
      "  * flag     = 0\n",
      "  * solution = [0.9072339605110892, 0.82275545631455]\n",
      "\u001b[0m\u001b[1mTest Summary:         | \u001b[22m\u001b[32m\u001b[1mPass  \u001b[22m\u001b[39m\u001b[36m\u001b[1mTotal  \u001b[22m\u001b[39m\u001b[0m\u001b[1mTime\u001b[22m\n",
      "Lagrangien augmenté   | \u001b[32m  12  \u001b[39m\u001b[36m   12  \u001b[39m\u001b[0m1.4s\n"
     ]
    }
   ],
   "source": [
    "include(\"../src/Lagrangien_Augmente.jl\")\n",
    "include(\"../test/tester_lagrangien_augmente.jl\")\n",
    "\n",
    "#\n",
    "afficher = true # si true, alors affiche les résultats des algorithmes\n",
    "\n",
    "#\n",
    "tester_lagrangien_augmente(lagrangien_augmente, afficher);"
   ]
  },
  {
   "cell_type": "markdown",
   "metadata": {},
   "source": [
    "## Interprétation\n",
    "\n",
    " 1. Commenter les résultats obtenus, en étudiant notamment les valeurs en sortie de $\\lambda_k$ et $\\mu_k$.\n",
    " 2. Étudier l'influence du paramètre $\\tau$ dans la performance de l'algorithme. Pour cela Vous réaliserez des tests numériques."
   ]
  },
  {
   "cell_type": "code",
   "execution_count": 23,
   "metadata": {},
   "outputs": [
    {
     "name": "stdout",
     "output_type": "stream",
     "text": [
      "resultat de : newton\n",
      "μk   = [10, 20, 40, 40, 80, 80, 80, 80, 80, 160]\n",
      "λk   = [2.0, 2.0, 2.0, 4.247191011235952, 4.247191011235952, 4.486536799414925, 4.499283024820915, 4.499961817889869, 4.499997966633192, 4.499997966633192]\n",
      "resultat de : rc-cauchy\n",
      "μk   = [10, 20, 40, 40, 80, 80, 80, 80, 80, 160, 160, 160, 160, 320, 320]\n",
      "λk   = [2.0, 2.0, 2.0, 4.247178689903535, 4.247178689903535, 4.486543185650838, 4.4992911054814115, 4.500049578383923, 4.500006984641816, 4.500006984641816, 4.499980449523962, 4.500008138454399, 4.499996341799582, 4.499996341799582, 4.499996048945912]\n",
      "resultat de : rc-gct\n",
      "μk   = [10, 20, 40, 40, 80, 80, 80, 80, 80, 160]\n",
      "λk   = [2.0, 2.0, 2.0, 4.2471910112359605, 4.2471910112359605, 4.486536799414933, 4.499283024820924, 4.4999618178898775, 4.499997966633183, 4.499997966633183]\n"
     ]
    }
   ],
   "source": [
    "# Expérimentations numériques à faire ici.\n",
    "# Vous pouvez utiliser le package Plots pour les affichages de courbes: using Plots\n",
    "\t\n",
    "for algo in [\"newton\", \"rc-cauchy\", \"rc-gct\"] \n",
    "    x_sol, f_sol, flag, nb_iters, μk,λk = lagrangien_augmente(fct1, grad_fct1, hess_fct1, contrainte1, grad_contrainte1, hess_contrainte1, pts2.x01, tol_abs=1e-5, tol_rel=1e-5, algo_noc=algo)\n",
    "    println(\"resultat de : \",algo)\n",
    "    println(\"μk   = \", μk)\n",
    "    println(\"λk   = \", λk)\n",
    "end \n"
   ]
  },
  {
   "cell_type": "markdown",
   "metadata": {},
   "source": [
    "1. On remarque que $\\mu_k$ augumente d'une maniere progressive,et $\\lambda_k$ converge presque a la meme valeur pour les 3 algorithmes."
   ]
  },
  {
   "cell_type": "markdown",
   "metadata": {},
   "source": [
    "2. On observe que choisir une valeur très faible pour $\\tau$ conduit à une convergence rapide en termes de nombre d'itérations"
   ]
  },
  {
   "cell_type": "code",
   "execution_count": 24,
   "metadata": {},
   "outputs": [
    {
     "name": "stdout",
     "output_type": "stream",
     "text": [
      "***************************************\n",
      "resultat de : newton\n",
      "****τ=1****\n",
      "[0.5862068965517241, 1.206896551724138, 0.5862068965517242]\n",
      "1\n",
      "****τ=3****\n",
      "[0.5000000088714466, 1.2499999955642767, 0.5000000088714468]\n",
      "8\n",
      "****τ=5****\n",
      "[0.5000000022418803, 1.2499999988790598, 0.5000000022418805]\n",
      "7\n",
      "***************************************\n",
      "resultat de : rc-cauchy\n",
      "****τ=1****\n",
      "[0.5861953307396099, 1.2068966261557226, 0.5862192944277019]\n",
      "14\n",
      "****τ=3****\n",
      "[0.49999292004085955, 1.2499982475967606, 0.5000070776714243]\n",
      "16\n",
      "****τ=5****\n",
      "[0.49999248944953345, 1.2500037730757083, 0.5000075105504667]\n",
      "1000\n",
      "***************************************\n",
      "resultat de : rc-gct\n",
      "****τ=1****\n",
      "[0.5862068965517246, 1.206896551724138, 0.5862068965517242]\n",
      "1\n",
      "****τ=3****\n",
      "[0.5000000088714467, 1.2499999955642767, 0.5000000088714467]\n",
      "8\n",
      "****τ=5****\n",
      "[0.5000000022418803, 1.2499999988790598, 0.5000000022418803]\n",
      "7\n"
     ]
    }
   ],
   "source": [
    "for algo in [\"newton\", \"rc-cauchy\", \"rc-gct\"] \n",
    "    println(\"***************************************\")\n",
    "    println(\"resultat de : \",algo)\n",
    "    x_sol, f_sol, flag, nb_iters, μk,λk = lagrangien_augmente(fct1, grad_fct1, hess_fct1, contrainte1, grad_contrainte1, hess_contrainte1, pts2.x01, tol_abs=1e-5, tol_rel=1e-5, τ=1,algo_noc=algo)\n",
    "    println(\"****τ=1****\")\n",
    "    println(x_sol)\n",
    "    println(nb_iters)\n",
    "    x_sol, f_sol, flag, nb_iters, μk,λk = lagrangien_augmente(fct1, grad_fct1, hess_fct1, contrainte1, grad_contrainte1, hess_contrainte1, pts2.x01, tol_abs=1e-5, tol_rel=1e-5, τ=3,algo_noc=algo)\n",
    "    println(\"****τ=3****\")\n",
    "    println(x_sol)\n",
    "    println(nb_iters)\n",
    "    x_sol, f_sol, flag, nb_iters, μk,λk = lagrangien_augmente(fct1, grad_fct1, hess_fct1, contrainte1, grad_contrainte1, hess_contrainte1, pts2.x01, tol_abs=1e-5, tol_rel=1e-5, τ=5,algo_noc=algo)\n",
    "    println(\"****τ=5****\")\n",
    "    println(x_sol)\n",
    "    println(nb_iters) \n",
    "end "
   ]
  },
  {
   "cell_type": "code",
   "execution_count": null,
   "metadata": {},
   "outputs": [],
   "source": []
  }
 ],
 "metadata": {
  "kernelspec": {
   "display_name": "Julia 1.8.2 - N7",
   "language": "julia",
   "name": "julia-1.8-n7"
  },
  "language_info": {
   "file_extension": ".jl",
   "mimetype": "application/julia",
   "name": "julia",
   "version": "1.8.2"
  }
 },
 "nbformat": 4,
 "nbformat_minor": 4
}
